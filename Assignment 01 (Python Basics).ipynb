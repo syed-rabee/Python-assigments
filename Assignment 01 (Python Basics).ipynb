{
 "cells": [
  {
   "cell_type": "markdown",
   "metadata": {},
   "source": [
    "# Part -1 Python Basics (Variables)"
   ]
  },
  {
   "cell_type": "markdown",
   "metadata": {},
   "source": [
    "1. Print Your Name with your Father name and Date of birth using suitable escape sequence charactor"
   ]
  },
  {
   "cell_type": "code",
   "execution_count": 4,
   "metadata": {},
   "outputs": [
    {
     "name": "stdout",
     "output_type": "stream",
     "text": [
      "Name:\tSyed Muhammad Rabee\n",
      "Father's Name:\tSyed Muhammad Rashid\n",
      " DOB:\t21-7-1996\n"
     ]
    }
   ],
   "source": [
    "# Write your code here\n",
    "name= \"Syed Muhammad Rabee\"\n",
    "Father_name=\"Syed Muhammad Rashid\"\n",
    "dob =  \"21-7-1996\"\n",
    "print(\"Name:\\t\" +name + \"\\nFather's Name:\\t\" +Father_name +\"\\n DOB:\\t\"+dob)"
   ]
  },
  {
   "cell_type": "markdown",
   "metadata": {},
   "source": [
    "2. Write your small bio using variables and print it using print function"
   ]
  },
  {
   "cell_type": "code",
   "execution_count": 9,
   "metadata": {},
   "outputs": [
    {
     "name": "stdout",
     "output_type": "stream",
     "text": [
      " My Name is  Syed Muhammad Rabee\n",
      " My Job is  Full Stack developer\n",
      " My Address is  2G 8/4 Nazimabad\n",
      " I am studing  Cloud Data Engineering  From Saylani\n"
     ]
    }
   ],
   "source": [
    "# Write your code here\n",
    "name= \" Syed Muhammad Rabee\"\n",
    "Job =  \" Full Stack developer\"\n",
    "Address=  \" 2G 8/4 Nazimabad\"\n",
    "Studies=  \" Cloud Data Engineering\"\n",
    "print(\" My Name is\"  ,name)\n",
    "print(\" My Job is\"  , Job)\n",
    "print(\" My Address is\",Address)\n",
    "print(\" I am studing\" , Studies,\" From Saylani\")\n",
    "\n",
    "      \n",
    "\n"
   ]
  },
  {
   "cell_type": "markdown",
   "metadata": {},
   "source": [
    "3. Write a program in which use all the operators we can use in Python"
   ]
  },
  {
   "cell_type": "code",
   "execution_count": null,
   "metadata": {},
   "outputs": [],
   "source": [
    "# Write your code here\n"
   ]
  },
  {
   "cell_type": "markdown",
   "metadata": {},
   "source": [
    "4. Completes the following steps of small task:\n",
    "    - Mention Marks of English , Islamiat and Maths out of 100 in 3 different variables\n",
    "    - Mention Variable of Total Marks and assign 300 to it\n",
    "    - Calculate Percentage"
   ]
  },
  {
   "cell_type": "code",
   "execution_count": 16,
   "metadata": {},
   "outputs": [
    {
     "name": "stdout",
     "output_type": "stream",
     "text": [
      " Marks is English:\t 89  \n",
      " Marks in Islamiat: \t 61  \n",
      " Marks in Maths: \t 71 \n",
      " Totals Marks of all subject:\t 300 \n",
      " Marks obtain:\t 221 \n",
      " percentage of all subjects:\n",
      "  73.66666666666667\n"
     ]
    }
   ],
   "source": [
    "# Write your code here\n",
    "\n",
    "English = 89\n",
    "Islamiat = 61\n",
    "Maths = 71\n",
    "obtain_marks = English + Maths + Islamiat\n",
    "\n",
    "total_marks = 300\n",
    "percentage =(  obtain_marks / total_marks) * 100\n",
    "\n",
    "print(\" Marks is English:\\t\" , English ,\n",
    "       \" \\n Marks in Islamiat: \\t\",Islamiat,\n",
    "         \" \\n Marks in Maths: \\t\", Maths, \n",
    "         \"\\n Totals Marks of all subject:\\t\", total_marks,\n",
    "           \"\\n Marks obtain:\\t\", obtain_marks,\n",
    "             \"\\n percentage of all subjects:\\n \", percentage)"
   ]
  },
  {
   "cell_type": "markdown",
   "metadata": {},
   "source": [
    "# Part -2 Python Basics (Conditional Statements)"
   ]
  },
  {
   "cell_type": "markdown",
   "metadata": {},
   "source": [
    "1) A company decided to give bonus of 5% to employee if his/her year of service is more than 5 years.\n",
    "Ask user for their salary and year of service and print the net bonus amount."
   ]
  },
  {
   "cell_type": "code",
   "execution_count": 21,
   "metadata": {},
   "outputs": [
    {
     "name": "stdout",
     "output_type": "stream",
     "text": [
      " Congratulation you got a bonus: 396516.60000000003\n"
     ]
    }
   ],
   "source": [
    "salary=float(input(\" Enter your Salary :\"))\n",
    "year_of_services=int(input( \" Enter your Year of services\")) \n",
    "if year_of_services>5:\n",
    "    bonus = (5/100) * salary\n",
    "    print(\" Congratulation you got a bonus:\", bonus)\n",
    "else:\n",
    "    bonus=0\n",
    "    print( \" Sorry you have no bonus, you have to complete your five years of services:\") \n",
    "    print(\" Net Bonus amount=\" , bonus)\n"
   ]
  },
  {
   "cell_type": "markdown",
   "metadata": {},
   "source": [
    "\n",
    "2) Write a program to check whether a person is eligible for voting or not. (accept age from user) if age is greater than 17 eligible otherwise not eligible"
   ]
  },
  {
   "cell_type": "code",
   "execution_count": 22,
   "metadata": {},
   "outputs": [
    {
     "name": "stdout",
     "output_type": "stream",
     "text": [
      "Sorry! You are not Eligible for vote \n"
     ]
    }
   ],
   "source": [
    "age = int(input(\"Please enter your age \")) \n",
    "if age > 17:  \n",
    "    print(\" Congrats! You are Eligible for vote\")\n",
    "else:\n",
    "    print(\"Sorry! You are not Eligible for vote \")"
   ]
  },
  {
   "cell_type": "markdown",
   "metadata": {},
   "source": [
    "\n",
    "3) Write a program to check whether a number entered by user is even or odd."
   ]
  },
  {
   "cell_type": "code",
   "execution_count": 25,
   "metadata": {},
   "outputs": [
    {
     "name": "stdout",
     "output_type": "stream",
     "text": [
      "1011 is odd\n"
     ]
    }
   ],
   "source": [
    "num = int(input(\"Enter a number: \"))\n",
    "if num % 2 ==0:\n",
    "    print( num, \"is even\")\n",
    "else: \n",
    "    print(num, \"is odd\")    "
   ]
  },
  {
   "cell_type": "markdown",
   "metadata": {},
   "source": [
    "4) Write a program to check whether a number is divisible by 7 or not.\n",
    "Show Answer"
   ]
  },
  {
   "cell_type": "code",
   "execution_count": null,
   "metadata": {},
   "outputs": [
    {
     "name": "stdout",
     "output_type": "stream",
     "text": [
      "is not divisble by   51\n"
     ]
    }
   ],
   "source": [
    "#Type your code here\n",
    "num = int(input(\" Please Enter number: \"))\n",
    "if num % 7 == 0:\n",
    "    print ( num, \"is divisible by \")\n",
    "else:\n",
    "    print( num, \"is not divisble by  \" )    \n"
   ]
  },
  {
   "cell_type": "markdown",
   "metadata": {},
   "source": [
    "5) Write a program to display \n",
    "\"Hello\" if a number entered by user is a multiple of five , otherwise print \"Bye\"."
   ]
  },
  {
   "cell_type": "code",
   "execution_count": 32,
   "metadata": {},
   "outputs": [
    {
     "name": "stdout",
     "output_type": "stream",
     "text": [
      "Hello\n"
     ]
    }
   ],
   "source": [
    "num = int(input(\"Enter number:\"))\n",
    "if num % 5 == 0:    \n",
    "    print(\"Hello\") \n",
    "else:\n",
    "    print(\"bye\")       \n",
    "\n"
   ]
  },
  {
   "cell_type": "markdown",
   "metadata": {},
   "source": [
    "7) Write a program to display the last digit of a number.\n"
   ]
  },
  {
   "cell_type": "code",
   "execution_count": 35,
   "metadata": {},
   "outputs": [
    {
     "name": "stdout",
     "output_type": "stream",
     "text": [
      "The last digit of a  2544997545454 is: 4\n"
     ]
    }
   ],
   "source": [
    "num = int(input(\"Enter a number\"))\n",
    "last_digit = num % 10\n",
    "print(\"The last digit of a \", num ,\"is:\",last_digit)"
   ]
  },
  {
   "cell_type": "markdown",
   "metadata": {},
   "source": [
    "9) Take values of length and breadth of a rectangle from user and print if it is square or rectangle."
   ]
  },
  {
   "cell_type": "code",
   "execution_count": 36,
   "metadata": {},
   "outputs": [
    {
     "name": "stdout",
     "output_type": "stream",
     "text": [
      "It is Rectangle\n"
     ]
    }
   ],
   "source": [
    "length = int(input(\"Enter a value of length\"))\n",
    "breath = int(input(\"Enter a value of breath\"))\n",
    "if length==breath:\n",
    "    print(\" It is square\")\n",
    "else:\n",
    "    print(\"It is Rectangle\")\n"
   ]
  },
  {
   "cell_type": "markdown",
   "metadata": {},
   "source": [
    "10) Take two int values from user and print greatest among them."
   ]
  },
  {
   "cell_type": "code",
   "execution_count": 8,
   "metadata": {},
   "outputs": [
    {
     "name": "stdout",
     "output_type": "stream",
     "text": [
      "Greatest number is 9\n"
     ]
    }
   ],
   "source": [
    "num1 = int(input(\"Enter a first number:\")) \n",
    "num2 = int(input(\"Enter a second number:\"))\n",
    "if num1>num2:\n",
    "    print(\" Greatest number is\" ,num1)\n",
    "else:\n",
    "    print(\"Greatest number is\", num2)\n"
   ]
  },
  {
   "cell_type": "markdown",
   "metadata": {},
   "source": [
    "11) A shop will give discount of 10% if the cost of purchased quantity is more than 1000.\n",
    "Ask user for quantity\n",
    "Suppose, one unit will cost 100.\n",
    "Judge and print total cost for user."
   ]
  },
  {
   "cell_type": "code",
   "execution_count": 13,
   "metadata": {},
   "outputs": [],
   "source": [
    "quantity = int(input(\"Enter Quantity\"))\n",
    "price_per_unit= 100\n",
    "total_cost= quantity* price_per_unit\n",
    "if total_cost > 1000:\n",
    "    discount= total_cost* 0.10\n",
    "    total_cost = total_cost - discount\n",
    "    print(\"You got a 10% discount of:\", discount)\n",
    "    print (\"Total cost to pay=\", total_cost)"
   ]
  },
  {
   "cell_type": "markdown",
   "metadata": {},
   "source": [
    "12) A school has following rules for grading system:\n",
    "\n",
    "a. Below 25 - F\n",
    "\n",
    "b. 25 to 45 - E\n",
    "\n",
    "c. 45 to 50 - D\n",
    "\n",
    "d. 50 to 60 - C\n",
    "\n",
    "e. 60 to 80 - B\n",
    "\n",
    "f. Above 80 - A\n",
    "\n",
    "Ask user to enter marks and print the corresponding grade."
   ]
  },
  {
   "cell_type": "code",
   "execution_count": 18,
   "metadata": {},
   "outputs": [],
   "source": [
    "marks = int(input(\"Enter your marks \"))\n",
    "if marks <25:\n",
    "    grade = \"F\"\n",
    "elif marks >= 25 and marks < 45:\n",
    "    grade = \"E\" \n",
    "elif marks >= 45 and marks< 50:\n",
    "    grade = \"F\" \n",
    "elif marks>= 50 and marks < 60:\n",
    "    grade = \"C\" \n",
    "elif marks >=  60 and marks <=80: \n",
    "    grade=\"B\"\n",
    "else:\n",
    "    grade = \"A\" \n",
    "    print(\"Your Grade is\", grade)\n",
    "\n",
    "\n",
    "   "
   ]
  },
  {
   "cell_type": "markdown",
   "metadata": {},
   "source": [
    "14)A student will not be allowed to sit in exam if his/her attendence is less than 75%.\n",
    "\n",
    "Take following input from user\n",
    "\n",
    "- Number of classes held\n",
    "\n",
    "- Number of classes attended.\n",
    "\n",
    "And print\n",
    "\n",
    "- percentage of class attended\n",
    "\n",
    "- Is student is allowed to sit in exam or not.\n"
   ]
  },
  {
   "cell_type": "code",
   "execution_count": 19,
   "metadata": {},
   "outputs": [
    {
     "name": "stdout",
     "output_type": "stream",
     "text": [
      "Attdence Percentage 375.0\n",
      "you are allowed to sit in exam\n"
     ]
    }
   ],
   "source": [
    "classes_held=int(input(\"Enter number of classes\"))\n",
    "classes_attended=int(input(\"Enter your classes you attended\")) \n",
    "attendance_percentage=(classes_attended/classes_held)*100\n",
    "print(\"Attdence Percentage\" , attendance_percentage)\n",
    "if attendance_percentage >= 75:\n",
    "    print(\"you are allowed to sit in exam\") \n",
    "else:\n",
    "    print(\"you are not allowed to sit in exam\")"
   ]
  },
  {
   "cell_type": "markdown",
   "metadata": {},
   "source": [
    "15) Modify the above question to allow student to sit if he/she has medical cause. Ask user if he/she has medical cause or not ( 'Y' or 'N' ) and print accordingly."
   ]
  },
  {
   "cell_type": "code",
   "execution_count": 21,
   "metadata": {},
   "outputs": [
    {
     "name": "stdout",
     "output_type": "stream",
     "text": [
      "Attdence Percentage 100.0\n",
      "you are allowed to sit in exam\n"
     ]
    }
   ],
   "source": [
    "classes_held=int(input(\"Enter number of classes\"))\n",
    "classes_attended=int(input(\"Enter your classes you attended\")) \n",
    "attendance_percentage=(classes_attended/classes_held)*100\n",
    "print(\"Attdence Percentage\" , attendance_percentage)\n",
    "if attendance_percentage >= 75:\n",
    "    print(\"you are allowed to sit in exam\") \n",
    "\n",
    "else:\n",
    "    medical_issues=input(\" Do you have a medical cause? (Y/N)\") \n",
    "    if medical_issues.upper()== 'Y':\n",
    "        print(\"You are allowed to sit in the exam  due to medical cause\") \n",
    "    else:\n",
    "        print(\"Sorry, you are not allowed to sit in the exam \")\n"
   ]
  },
  {
   "cell_type": "markdown",
   "metadata": {},
   "source": [
    "16) Write a program to check if a year is leap year or not.\n",
    "\n",
    "If a year is divisible by 4 then it is leap year but if the year is century year like 2000, 1900, 2100 then it must be divisible by 400."
   ]
  },
  {
   "cell_type": "code",
   "execution_count": null,
   "metadata": {},
   "outputs": [],
   "source": [
    "year = int(input(\"Enter a year: \"))\n",
    "\n",
    "if (year % 400 == 0) or (year % 4 == 0 and year % 100 != 0):\n",
    "    print(year, \"is a L  Year\")\n",
    "else:\n",
    "    print(year, \"is not  leap year\")"
   ]
  },
  {
   "cell_type": "markdown",
   "metadata": {},
   "source": [
    "17) Ask user to enter age, gender ( M or F ), marital status ( Y or N ) and then using following rules print their place of service.\n",
    "\n",
    "if employee is female, then she will work only in urban areas.\n",
    "\n",
    "if employee is a male and age is in between 20 to 40 then he may work in anywhere\n",
    "\n",
    "if employee is male and age is in between 40 t0 60 then he will work in urban areas only.\n",
    "\n",
    "And any other input of age should print \"ERROR\""
   ]
  },
  {
   "cell_type": "code",
   "execution_count": null,
   "metadata": {},
   "outputs": [],
   "source": [
    "age = int(input(\"Enter age: \"))\n",
    "gender = input(\"Enter gender (M/F): \")\n",
    "marital_status = input(\"Enter marital status (Y/N): \")\n",
    "\n",
    "if gender.upper() == \"F\":\n",
    "    print(\"she will work only in urban areas\")\n",
    "elif gender.upper() == \"M\":\n",
    "    if 20 <= age <= 40:\n",
    "        print(\"he may work anywhere\")\n",
    "    elif 40 < age <= 60:\n",
    "        print(\"he will work only in urban areas\")\n",
    "    else:\n",
    "        print(\"ERROR\")\n",
    "else:\n",
    "    print(\"ERROR\")\n"
   ]
  },
  {
   "cell_type": "markdown",
   "metadata": {},
   "source": [
    "6) Write a program to calculate the electricity bill (accept number of unit from user) according to the following criteria :\n",
    "     Unit                                                     Price  \n",
    "uptp 100 units                                             no charge\n",
    "Next 200 units                                              Rs 5 per unit\n",
    "After 200 units                                             Rs 10 per unit\n",
    "(For example if input unit is 350 than total bill amount is Rs.3500\n",
    "(For example if input unit is 97 than total bill amount is Rs.0\n",
    "(For example if input unit is 150 than total bill amount is Rs.750"
   ]
  },
  {
   "cell_type": "code",
   "execution_count": null,
   "metadata": {},
   "outputs": [],
   "source": [
    "units = int(input(\"Enter number of units: \"))\n",
    "\n",
    "if units <= 100:\n",
    "    bill = 0\n",
    "elif units <= 300:\n",
    "    bill = (units - 100) * 5\n",
    "else:\n",
    "    bill = (200 * 5) + (units - 300) * 10\n",
    "\n",
    "print(\"Total Bill Amount = Rs.\", bill)"
   ]
  },
  {
   "cell_type": "markdown",
   "metadata": {},
   "source": [
    "13) Take input of age of 3 people by user and determine oldest and youngest among them."
   ]
  },
  {
   "cell_type": "code",
   "execution_count": null,
   "metadata": {},
   "outputs": [],
   "source": [
    "age1 = int(input(\"Enter age of 1st person: \"))\n",
    "age2 = int(input(\"Enter age of 2nd person: \"))\n",
    "age3 = int(input(\"Enter age of 3rd person: \"))\n",
    "\n",
    "oldest = max(age1, age2, age3)\n",
    "youngest = min(age1, age2, age3)\n",
    "\n",
    "print(\"Oldest age is:\", oldest)\n",
    "print(\"Youngest age is:\", youngest)"
   ]
  }
 ],
 "metadata": {
  "kernelspec": {
   "display_name": "Python 3",
   "language": "python",
   "name": "python3"
  },
  "language_info": {
   "codemirror_mode": {
    "name": "ipython",
    "version": 3
   },
   "file_extension": ".py",
   "mimetype": "text/x-python",
   "name": "python",
   "nbconvert_exporter": "python",
   "pygments_lexer": "ipython3",
   "version": "3.13.5"
  }
 },
 "nbformat": 4,
 "nbformat_minor": 2
}
