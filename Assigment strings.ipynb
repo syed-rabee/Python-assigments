{
 "cells": [
  {
   "cell_type": "markdown",
   "id": "c91a2ec7",
   "metadata": {},
   "source": [
    "Write a program that accepts a string from user. Your program should count and display number of vowels in that string"
   ]
  },
  {
   "cell_type": "code",
   "execution_count": null,
   "id": "c840a85c",
   "metadata": {},
   "outputs": [],
   "source": [
    "text = input(\"Enter a string: \")\n",
    "\n",
    "vowels = \"aeiouAEIOU\"\n",
    "count = 0\n",
    "\n",
    "for ch in text:\n",
    "    if ch in vowels:\n",
    "        count += 1\n",
    "\n",
    "print(\"Number of vowels in the string:\", count)"
   ]
  },
  {
   "cell_type": "markdown",
   "id": "b795afd7",
   "metadata": {},
   "source": [
    "2. Write a program that reads a string from keyboard and display:\n",
    "* The number of uppercase letters in the string\n",
    "* The number of lowercase letters in the string\n",
    "* The number of digits in the string\n",
    "* The number of whitespace characters in the string \n"
   ]
  },
  {
   "cell_type": "code",
   "execution_count": null,
   "id": "6799c7ad",
   "metadata": {},
   "outputs": [],
   "source": [
    "text = input(\"Enter a string: \")\n",
    "\n",
    "upper_count = 0\n",
    "lower_count = 0\n",
    "digit_count = 0\n",
    "space_count = 0\n",
    "\n",
    "for ch in text:\n",
    "    if ch.isupper():\n",
    "        upper_count += 1\n",
    "    elif ch.islower():\n",
    "        lower_count += 1\n",
    "    elif ch.isdigit():\n",
    "        digit_count += 1\n",
    "    elif ch.isspace():\n",
    "        space_count += 1\n",
    "\n",
    "print(\"Uppercase letters:\", upper_count)\n",
    "print(\"Lowercase letters:\", lower_count)\n",
    "print(\"Digits:\", digit_count)\n",
    "print(\"Whitespace characters:\", space_count)"
   ]
  },
  {
   "cell_type": "markdown",
   "id": "b30c1e56",
   "metadata": {},
   "source": [
    " 3. Write a Python program that accepts a string from user. Your program should create and display a\n",
    "new string where the first and last characters have been exchanged.\n",
    "For example if the user enters the string 'HELLO' then new string would be 'OELLH'"
   ]
  },
  {
   "cell_type": "code",
   "execution_count": null,
   "id": "bc122fa3",
   "metadata": {},
   "outputs": [],
   "source": [
    "text = input(\"Enter a string: \")\n",
    "\n",
    "if len(text) <= 1:\n",
    "    new_text = text\n",
    "else:\n",
    "    new_text = text[-1] + text[1:-1] + text[0]\n",
    "\n",
    "print(\"New string:\", new_text)"
   ]
  },
  {
   "cell_type": "markdown",
   "id": "f81a6f9b",
   "metadata": {},
   "source": [
    " 4. Write a Python program that accepts a string from user. Your program should create a new string in\n",
    "reverse of first string and display it.\n",
    "For example if the user enters the string 'EXAM' then new string would be 'MAXE'"
   ]
  },
  {
   "cell_type": "code",
   "execution_count": null,
   "id": "119e5306",
   "metadata": {},
   "outputs": [],
   "source": [
    "text = input(\"Enter a string: \")\n",
    "\n",
    "\n",
    "reversed_text = text[::-1]\n",
    "\n",
    "print(\"Reversed string:\", reversed_text)"
   ]
  },
  {
   "cell_type": "markdown",
   "id": "383caea1",
   "metadata": {},
   "source": [
    "5. Write a Python program that accepts a string from user. Your program should create a new string by\n",
    "shifting one position to left.\n",
    "For example if the user enters the string 'examination 2021' then new string would be 'xamination\n",
    "2021e' \n"
   ]
  },
  {
   "cell_type": "code",
   "execution_count": null,
   "id": "c8a79457",
   "metadata": {},
   "outputs": [],
   "source": [
    "text = input(\"Enter a string: \")\n",
    "\n",
    "if len(text) > 0:\n",
    "    new_string = text[1:] + text[0]\n",
    "    print(\"Shifted string:\", new_string)\n",
    "else:\n",
    "    print(\"String is empty!\")"
   ]
  },
  {
   "cell_type": "markdown",
   "id": "d3063c53",
   "metadata": {},
   "source": [
    "6. Write a program that asks the user to input his name and print its initials. Assuming that the user\n",
    "always types first name, middle name and last name and does not include any unnecessary spaces.\n",
    "For example, if the user enters Ajay Kumar Garg the program should display A. K. G.\n",
    "Note:Don't use split() method \n"
   ]
  },
  {
   "cell_type": "code",
   "execution_count": null,
   "id": "9940a2e9",
   "metadata": {},
   "outputs": [],
   "source": [
    "name = input(\"Enter your full name (First Middle Last): \")\n",
    "\n",
    "# Pehla letter hamesha lena hai\n",
    "initials = name[0].upper() + \". \"\n",
    "\n",
    "for i in range(1, len(name)):\n",
    "    if name[i - 1] == \" \":   # agar pichla character space hai\n",
    "        initials += name[i].upper() + \". \"\n",
    "\n",
    "print(\"Initials:\", initials.strip())"
   ]
  },
  {
   "cell_type": "markdown",
   "id": "4696fc0c",
   "metadata": {},
   "source": [
    "7. A palindrome is a string that reads the same backward as forward. For example, the words dad,\n",
    "madam and radar are all palindromes. Write a programs that determines whether the string is a\n",
    "palindrome.\n",
    "Note: do not use reverse() method \n"
   ]
  },
  {
   "cell_type": "code",
   "execution_count": null,
   "id": "9a611597",
   "metadata": {},
   "outputs": [],
   "source": [
    "string = input(\"Enter a string: \")\n",
    "\n",
    "is_palindrome = True\n",
    "length = len(string)\n",
    "\n",
    "for i in range(length // 2):   # sirf aadha compare karna hai\n",
    "    if string[i] != string[length - i - 1]:\n",
    "        is_palindrome = False\n",
    "        break\n",
    "\n",
    "if is_palindrome:\n",
    "    print(\"The string is a palindrome.\")\n",
    "else:\n",
    "    print(\"The string is not a palindrome.\")"
   ]
  },
  {
   "cell_type": "markdown",
   "id": "8c92e79e",
   "metadata": {},
   "source": [
    "8. Write a program that display following output:\n",
    "SHIFT\n",
    "HIFTS\n",
    "IFTSH\n",
    "FTSHI\n",
    "TSHIF\n",
    "SHIFT \n"
   ]
  },
  {
   "cell_type": "code",
   "execution_count": null,
   "id": "eb472ca2",
   "metadata": {},
   "outputs": [],
   "source": [
    "word = \"SHIFT\"\n",
    "length = len(word)\n",
    "\n",
    "for i in range(length + 1):   # +1 taake last me SHIFT wapas aaye\n",
    "    rotated = word[i:] + word[:i]\n",
    "    print(rotated)"
   ]
  },
  {
   "cell_type": "markdown",
   "id": "0db7e47e",
   "metadata": {},
   "source": [
    " 9. Write a program in python that accepts a string to setup a passwords. Your entered password must\n",
    "meet the following requirements:\n",
    "The password must be at least eight characters long.\n",
    "It must contain at least one uppercase letter.\n",
    "It must contain at least one lowercase letter.\n",
    "It must contain at least one numeric digit.\n",
    "Your program should should perform this validation. "
   ]
  },
  {
   "cell_type": "code",
   "execution_count": null,
   "id": "f364942e",
   "metadata": {},
   "outputs": [],
   "source": [
    "password = input(\"Enter a password: \")\n",
    "\n",
    "# Conditions check\n",
    "if len(password) >= 8:\n",
    "    has_upper = False\n",
    "    has_lower = False\n",
    "    has_digit = False\n",
    "\n",
    "    for ch in password:\n",
    "        if ch.isupper():\n",
    "            has_upper = True\n",
    "        elif ch.islower():\n",
    "            has_lower = True\n",
    "        elif ch.isdigit():\n",
    "            has_digit = True\n",
    "\n",
    "    if has_upper and has_lower and has_digit:\n",
    "        print(\"Password is valid.\")\n",
    "    else:\n",
    "        print(\"Password is invalid. Must contain uppercase, lowercase, and digit.\")\n",
    "else:\n",
    "    print(\"Password is invalid. Must be at least 8 characters long.\")\n"
   ]
  }
 ],
 "metadata": {
  "language_info": {
   "name": "python"
  }
 },
 "nbformat": 4,
 "nbformat_minor": 5
}
