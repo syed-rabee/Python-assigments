{
 "cells": [
  {
   "cell_type": "markdown",
   "id": "087059a0",
   "metadata": {},
   "source": [
    "Q1. Write a Python program to print the numbers from 1 to 10 using a for loop."
   ]
  },
  {
   "cell_type": "code",
   "execution_count": null,
   "id": "4b602f27",
   "metadata": {},
   "outputs": [],
   "source": [
    "for i in range(1, 11):\n",
    "    print(i)"
   ]
  },
  {
   "cell_type": "markdown",
   "id": "4b2cc2b8",
   "metadata": {},
   "source": [
    "Q2. Write a Python program to print the numbers from 20 to 1 using a while loop."
   ]
  },
  {
   "cell_type": "code",
   "execution_count": null,
   "id": "407e8426",
   "metadata": {},
   "outputs": [],
   "source": [
    "i = 20\n",
    "while i >= 1:\n",
    "    print(i)\n",
    "    i -= 1"
   ]
  },
  {
   "cell_type": "markdown",
   "id": "a6a46dc1",
   "metadata": {},
   "source": [
    "Q3. Write a program to print even numbers from 1 to 10."
   ]
  },
  {
   "cell_type": "code",
   "execution_count": null,
   "id": "7c81bb78",
   "metadata": {},
   "outputs": [],
   "source": [
    "for i in range(1, 11):\n",
    "    if i % 2 == 0:\n",
    "        print(i)"
   ]
  },
  {
   "cell_type": "markdown",
   "id": "757264c7",
   "metadata": {},
   "source": [
    "Q4. Write a program that prompts the user to enter a number n and prints all the numbers from 1 to n."
   ]
  },
  {
   "cell_type": "code",
   "execution_count": null,
   "id": "9d885013",
   "metadata": {},
   "outputs": [],
   "source": [
    "n = int(input(\"Enter a number: \"))\n",
    "for i in range(1, n+1):\n",
    "    print(i)"
   ]
  },
  {
   "cell_type": "markdown",
   "id": "653eb9de",
   "metadata": {},
   "source": [
    "Q5. Write a program that prompts the user to enter a number n, and then prints all the odd numbers between 1 and n."
   ]
  },
  {
   "cell_type": "code",
   "execution_count": null,
   "id": "e0a65e4d",
   "metadata": {},
   "outputs": [],
   "source": [
    "n = int(input(\"Enter a number: \"))\n",
    "for i in range(1, n+1):\n",
    "    if i % 2 != 0:\n",
    "        print(i)"
   ]
  },
  {
   "cell_type": "markdown",
   "id": "23eb8ce1",
   "metadata": {},
   "source": [
    "Q6. Write a program that prints 'Happy Birthday!' five times on screen."
   ]
  },
  {
   "cell_type": "code",
   "execution_count": null,
   "id": "2cddc088",
   "metadata": {},
   "outputs": [],
   "source": [
    "for i in range(5):\n",
    "    print(\"Happy Birthday!\")"
   ]
  },
  {
   "cell_type": "markdown",
   "id": "b7364d8b",
   "metadata": {},
   "source": [
    "Q7. Write a program that takes a number n as input from the user and generates the first n terms of the series formed by squaring the natural numbers."
   ]
  },
  {
   "cell_type": "code",
   "execution_count": null,
   "id": "937bcafc",
   "metadata": {},
   "outputs": [],
   "source": [
    "n = int(input(\"Enter a number: \"))\n",
    "for i in range(1, n+1):\n",
    "    print(i*i, end=\" \")"
   ]
  },
  {
   "cell_type": "markdown",
   "id": "fb7c8a2e",
   "metadata": {},
   "source": [
    "Q8. Write a program that prompts the user to input a number and prints its multiplication table."
   ]
  },
  {
   "cell_type": "code",
   "execution_count": null,
   "id": "0f04b915",
   "metadata": {},
   "outputs": [],
   "source": [
    "num = int(input(\"Enter a number: \"))\n",
    "for i in range(1, 11):\n",
    "    print(num, \"x\", i, \"=\", num*i)"
   ]
  },
  {
   "cell_type": "markdown",
   "id": "5b1a1bab",
   "metadata": {},
   "source": [
    "Q9. Write a Python program to print the first 8 terms of an arithmetic progression starting with 3 and having a common difference of 4."
   ]
  },
  {
   "cell_type": "code",
   "execution_count": null,
   "id": "bbb20c8e",
   "metadata": {},
   "outputs": [],
   "source": [
    "a = 3\n",
    "d = 4\n",
    "for i in range(8):\n",
    "    print(a + i*d, end=\" \")"
   ]
  },
  {
   "cell_type": "markdown",
   "id": "06e336ee",
   "metadata": {},
   "source": [
    "Q10. Write a Python program to print the first 6 terms of a geometric sequence starting with 2 and having a common ratio of 3."
   ]
  },
  {
   "cell_type": "code",
   "execution_count": null,
   "id": "47992dbb",
   "metadata": {},
   "outputs": [],
   "source": [
    "a = 2\n",
    "r = 3\n",
    "for i in range(6):\n",
    "    print(a * (r**i), end=\" \")"
   ]
  },
  {
   "cell_type": "markdown",
   "id": "d9d0ae32",
   "metadata": {},
   "source": [
    "Q11. Write a program that asks the user for a positive integer value. The program should calculate the sum of all the integers from 1 up to the number entered."
   ]
  },
  {
   "cell_type": "code",
   "execution_count": null,
   "id": "20d32d23",
   "metadata": {},
   "outputs": [],
   "source": [
    "n = int(input(\"Enter a positive integer: \"))\n",
    "s = 0\n",
    "for i in range(1, n+1):\n",
    "    s += i\n",
    "print(\"Sum =\", s)\n"
   ]
  },
  {
   "cell_type": "markdown",
   "id": "96627a62",
   "metadata": {},
   "source": [
    "Q12. Write a program that takes a positive integer N as input and calculates the sum of the reciprocals of all numbers from 1 up to N."
   ]
  },
  {
   "cell_type": "code",
   "execution_count": null,
   "id": "e523375f",
   "metadata": {},
   "outputs": [],
   "source": [
    "n = int(input(\"Enter a positive integer: \"))\n",
    "s = 0\n",
    "for i in range(1, n+1):\n",
    "    s += 1/i\n",
    "print(\"Sum of reciprocals =\", round(s, 2))"
   ]
  },
  {
   "cell_type": "markdown",
   "id": "e9ad3359",
   "metadata": {},
   "source": [
    "Q13. Write a program that prompts the user to enter a number and repeats this process 5 times. The program should accumulate the numbers entered and then display the final running total."
   ]
  },
  {
   "cell_type": "code",
   "execution_count": null,
   "id": "db7663c1",
   "metadata": {},
   "outputs": [],
   "source": [
    "total = 0\n",
    "for i in range(5):\n",
    "    num = int(input(\"Enter a number: \"))\n",
    "    total += num\n",
    "print(\"The final running total is:\", total)"
   ]
  },
  {
   "cell_type": "markdown",
   "id": "86f79977",
   "metadata": {},
   "source": [
    "Q14. Write a program that prompts the user to enter a positive integer and calculates its factorial."
   ]
  },
  {
   "cell_type": "code",
   "execution_count": null,
   "id": "bfb4e040",
   "metadata": {},
   "outputs": [],
   "source": [
    "n = int(input(\"Enter a number: \"))\n",
    "if n < 0:\n",
    "    print(\"Factorial does not exist for negative numbers\")\n",
    "elif n == 0:\n",
    "    print(\"Factorial of 0 is 1\")\n",
    "else:\n",
    "    fact = 1\n",
    "    for i in range(1, n+1):\n",
    "        fact *= i\n",
    "    print(\"Factorial of\", n, \"is\", fact)"
   ]
  },
  {
   "cell_type": "markdown",
   "id": "90c6aa3b",
   "metadata": {},
   "source": [
    "Q15. Write a Python program that prompts the user to enter a base number and an exponent, and then calculates the power without using () or math.pow().**"
   ]
  },
  {
   "cell_type": "code",
   "execution_count": null,
   "id": "e3594aca",
   "metadata": {},
   "outputs": [],
   "source": [
    "base = int(input(\"Enter base: \"))\n",
    "exp = int(input(\"Enter exponent: \"))\n",
    "\n",
    "result = 1\n",
    "if exp >= 0:\n",
    "    for i in range(exp):\n",
    "        result *= base\n",
    "else:\n",
    "    for i in range(-exp):\n",
    "        result *= base\n",
    "    result = 1 / result\n",
    "\n",
    "print(\"Result:\", result)"
   ]
  }
 ],
 "metadata": {
  "language_info": {
   "name": "python"
  }
 },
 "nbformat": 4,
 "nbformat_minor": 5
}
