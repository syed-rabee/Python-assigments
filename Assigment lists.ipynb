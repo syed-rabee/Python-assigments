{
 "cells": [
  {
   "cell_type": "markdown",
   "id": "17056d0a",
   "metadata": {},
   "source": [
    "Write a program that accepts a list from user and print the alternate element of list. \n"
   ]
  },
  {
   "cell_type": "code",
   "execution_count": null,
   "id": "88a177e7",
   "metadata": {},
   "outputs": [],
   "source": [
    "n = int(input(\"Enter number of elements: \"))\n",
    "my_list = []\n",
    "for i in range(n):\n",
    "    val = input(f\"Enter element {i+1}: \")\n",
    "    my_list.append(val)\n",
    "\n",
    "for i in range(0, len(my_list), 2):\n",
    "    print(my_list[i])"
   ]
  },
  {
   "cell_type": "markdown",
   "id": "233d2db4",
   "metadata": {},
   "source": [
    "2. Write a program that accepts a list from user. Your program should reverse the content of list and\n",
    "display it. Do not use reverse() method. \n"
   ]
  },
  {
   "cell_type": "code",
   "execution_count": null,
   "id": "f8fffe0c",
   "metadata": {},
   "outputs": [],
   "source": [
    "n = int(input(\"Enter number of elements: \"))\n",
    "my_list = []\n",
    "for i in range(n):\n",
    "    val = input(f\"Enter element {i+1}: \")\n",
    "    my_list.append(val)\n",
    "\n",
    "reversed_list = []\n",
    "for i in range(len(my_list)-1, -1, -1):\n",
    "    reversed_list.append(my_list[i])\n",
    "\n",
    "print(\"Reversed list:\", reversed_list)\n"
   ]
  },
  {
   "cell_type": "markdown",
   "id": "687f32b0",
   "metadata": {},
   "source": [
    " 3. Find and display the largest number of a list without using built-in function max(). Your program\n",
    "should ask the user to input values in list from keyboard. \n"
   ]
  },
  {
   "cell_type": "code",
   "execution_count": null,
   "id": "239e8108",
   "metadata": {},
   "outputs": [],
   "source": [
    "n = int(input(\"Enter number of elements: \"))\n",
    "my_list = []\n",
    "for i in range(n):\n",
    "    val = int(input(f\"Enter element {i+1}: \"))\n",
    "    my_list.append(val)\n",
    "\n",
    "largest = my_list[0]\n",
    "for num in my_list:\n",
    "    if num > largest:\n",
    "        largest = num\n",
    "\n",
    "print(\"Largest number is:\", largest)"
   ]
  },
  {
   "cell_type": "markdown",
   "id": "3fc94e2f",
   "metadata": {},
   "source": [
    " 4. Write a program that rotates the element of a list so that the element at the first index moves to the\n",
    "second index, the element in the second index moves to the third index, etc., and the element in the last\n",
    "index moves to the first index. \n"
   ]
  },
  {
   "cell_type": "code",
   "execution_count": null,
   "id": "8d8f26ed",
   "metadata": {},
   "outputs": [],
   "source": [
    "n = int(input(\"Enter number of elements: \"))\n",
    "my_list = []\n",
    "for i in range(n):\n",
    "    val = input(f\"Enter element {i+1}: \")\n",
    "    my_list.append(val)\n",
    "\n",
    "rotated = my_list[1:] + [my_list[0]]\n",
    "print(rotated)"
   ]
  },
  {
   "cell_type": "markdown",
   "id": "a494386f",
   "metadata": {},
   "source": [
    "5. Write a program that input a string and ask user to delete a given word from a string. \n"
   ]
  },
  {
   "cell_type": "code",
   "execution_count": null,
   "id": "a5b31e31",
   "metadata": {},
   "outputs": [],
   "source": [
    "text = input(\"Enter a string: \")\n",
    "word = input(\"Enter word to delete: \")\n",
    "new_text = text.replace(word, \"\")\n",
    "print(new_text)\n"
   ]
  },
  {
   "cell_type": "markdown",
   "id": "db0b2846",
   "metadata": {},
   "source": [
    "6. Write a program that reads a string from the user containing a date in the form mm/dd/yyyy. It\n",
    "should print the date in the form March 12, 2021. \n"
   ]
  },
  {
   "cell_type": "code",
   "execution_count": null,
   "id": "60acacfb",
   "metadata": {},
   "outputs": [],
   "source": [
    "date = input(\"Enter date in mm/dd/yyyy format: \")\n",
    "months = [\"January\",\"February\",\"March\",\"April\",\"May\",\"June\",\"July\",\"August\",\"September\",\"October\",\"November\",\"December\"]\n",
    "parts = date.split(\"/\")\n",
    "month = months[int(parts[0]) - 1]\n",
    "day = parts[1]\n",
    "year = parts[2]\n",
    "print(month, day + \",\", year)"
   ]
  },
  {
   "cell_type": "markdown",
   "id": "778132c6",
   "metadata": {},
   "source": [
    " 7. Write a program with a function that accepts a string from keyboard and create a new string after\n",
    "converting character of each word capitalized. For instance, if the sentence is \"stop and smell the roses.\"\n",
    "the output should be \"Stop And Smell The Roses\" \n"
   ]
  },
  {
   "cell_type": "code",
   "execution_count": null,
   "id": "ef12f422",
   "metadata": {},
   "outputs": [],
   "source": [
    "def capitalize_words(sentence):\n",
    "    result = \"\"\n",
    "    capitalize_next = True\n",
    "    for ch in sentence:\n",
    "        if capitalize_next and ch.isalpha():\n",
    "            result += ch.upper()\n",
    "            capitalize_next = False\n",
    "        else:\n",
    "            result += ch\n",
    "        if ch == \" \":\n",
    "            capitalize_next = True\n",
    "    return result\n",
    "\n",
    "text = input(\"Enter a sentence: \")\n",
    "print(capitalize_words(text))"
   ]
  },
  {
   "cell_type": "markdown",
   "id": "1d25783b",
   "metadata": {},
   "source": [
    "8. Find the sum of each row of matrix of size m x n. For example for the following matrix output will be\n",
    "like this :\n",
    "Sum of row 1 = 32\n",
    "Sum of row 2 = 31\n",
    "Sum of row 3 = 63 \n"
   ]
  },
  {
   "cell_type": "code",
   "execution_count": null,
   "id": "64249d77",
   "metadata": {},
   "outputs": [],
   "source": [
    "m = int(input(\"Enter number of rows: \"))\n",
    "n = int(input(\"Enter number of columns: \"))\n",
    "matrix = []\n",
    "for i in range(m):\n",
    "    row = []\n",
    "    for j in range(n):\n",
    "        row.append(int(input(f\"Enter element [{i+1},{j+1}]: \")))\n",
    "    matrix.append(row)\n",
    "\n",
    "for i in range(m):\n",
    "    print(\"Sum of row\", i+1, \"=\", sum(matrix[i]))\n"
   ]
  },
  {
   "cell_type": "markdown",
   "id": "77a62424",
   "metadata": {},
   "source": [
    "9. Write a program to add two matrices of size n x m. \n"
   ]
  },
  {
   "cell_type": "code",
   "execution_count": null,
   "id": "b0f06095",
   "metadata": {},
   "outputs": [],
   "source": [
    "m = int(input(\"Enter number of rows: \"))\n",
    "n = int(input(\"Enter number of columns: \"))\n",
    "\n",
    "A = []\n",
    "for i in range(m):\n",
    "    row = []\n",
    "    for j in range(n):\n",
    "        row.append(int(input(f\"Enter A[{i+1},{j+1}]: \")))\n",
    "    A.append(row)\n",
    "\n",
    "B = []\n",
    "for i in range(m):\n",
    "    row = []\n",
    "    for j in range(n):\n",
    "        row.append(int(input(f\"Enter B[{i+1},{j+1}]: \")))\n",
    "    B.append(row)\n",
    "\n",
    "C = []\n",
    "for i in range(m):\n",
    "    row = []\n",
    "    for j in range(n):\n",
    "        row.append(A[i][j] + B[i][j])\n",
    "    C.append(row)\n",
    "\n",
    "for row in C:\n",
    "    print(row)"
   ]
  },
  {
   "cell_type": "markdown",
   "id": "41789cc7",
   "metadata": {},
   "source": [
    "10. Write a program to multiply two matrices "
   ]
  },
  {
   "cell_type": "code",
   "execution_count": null,
   "id": "1809926c",
   "metadata": {},
   "outputs": [],
   "source": [
    "m = int(input(\"Enter number of rows of first matrix: \"))\n",
    "n = int(input(\"Enter number of columns of first matrix: \"))\n",
    "p = int(input(\"Enter number of columns of second matrix: \"))\n",
    "\n",
    "A = []\n",
    "for i in range(m):\n",
    "    row = []\n",
    "    for j in range(n):\n",
    "        row.append(int(input(f\"Enter A[{i+1},{j+1}]: \")))\n",
    "    A.append(row)\n",
    "\n",
    "B = []\n",
    "for i in range(n):\n",
    "    row = []\n",
    "    for j in range(p):\n",
    "        row.append(int(input(f\"Enter B[{i+1},{j+1}]: \")))\n",
    "    B.append(row)\n",
    "\n",
    "C = []\n",
    "for i in range(m):\n",
    "    row = []\n",
    "    for j in range(p):\n",
    "        s = 0\n",
    "        for k in range(n):\n",
    "            s += A[i][k] * B[k][j]\n",
    "        row.append(s)\n",
    "    C.append(row)\n",
    "\n",
    "for row in C:\n",
    "    print(row)"
   ]
  }
 ],
 "metadata": {
  "language_info": {
   "name": "python"
  }
 },
 "nbformat": 4,
 "nbformat_minor": 5
}
